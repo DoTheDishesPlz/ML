{
 "cells": [
  {
   "cell_type": "code",
   "execution_count": 1,
   "metadata": {},
   "outputs": [
    {
     "data": {
      "text/plain": [
       "array([5, 0, 1], dtype=int16)"
      ]
     },
     "execution_count": 1,
     "metadata": {},
     "output_type": "execute_result"
    }
   ],
   "source": [
    "import numpy as np\n",
    "import math \n",
    "\n",
    "lst1 = [1,2,3]\n",
    "arr1 = np.array(lst1,dtype=np.uint8)\n",
    "type(lst1)\n",
    "type(arr1)\n",
    "\n",
    "arr2 = np.array([[1,2,3],[4,5,6]],dtype=np.int16)\n",
    "arr2\n",
    "\n",
    "arr3 = np.array([[[1,2,3],[4,5,6]],[[7,8,9],[0,0,0]],[[-1,-1,-1],[1,1,1]]],np.int16)\n",
    "arr3\n",
    "\n",
    "'''\n",
    "This is 1 demensional array\n",
    "'''\n",
    "arr1[0], arr1[1],arr1[2]\n",
    "arr1[-1], arr1[-2],#arr1[3] errors out of bounds\n",
    "\n",
    "'''\n",
    "This is 2 demensional array\n",
    "'''\n",
    "arr2[0,0],arr2[0,1],arr2[0,2]\n",
    "\n",
    "'''entire row and entire column'''\n",
    "arr2[0,:]\n",
    "arr2[1,:]\n",
    "\n",
    "arr2[:,0]\n",
    "arr2[:,1]\n",
    "\n",
    "arr3[0,0,0]\n",
    "arr3[1,1,2]\n",
    "arr3[:,1,1]"
   ]
  },
  {
   "cell_type": "code",
   "execution_count": 47,
   "metadata": {},
   "outputs": [
    {
     "data": {
      "text/plain": [
       "array([[[ 1,  2,  3],\n",
       "        [ 4,  5,  6]],\n",
       "\n",
       "       [[ 7,  8,  9],\n",
       "        [ 0,  0,  0]],\n",
       "\n",
       "       [[-1, -1, -1],\n",
       "        [ 1,  1,  1]]], dtype=int16)"
      ]
     },
     "execution_count": 47,
     "metadata": {},
     "output_type": "execute_result"
    }
   ],
   "source": [
    "arr3"
   ]
  },
  {
   "cell_type": "code",
   "execution_count": 45,
   "metadata": {},
   "outputs": [
    {
     "data": {
      "text/plain": [
       "(3, (2, 2, 3), dtype('int16'))"
      ]
     },
     "execution_count": 45,
     "metadata": {},
     "output_type": "execute_result"
    }
   ],
   "source": [
    "x2 = np.array([[[1,2,3],[4,5,6]],[[0,-1,-2],[-3,-4,-5]]],np.int16)\n",
    "x2.ndim, x2.shape, x2.dtype"
   ]
  },
  {
   "cell_type": "code",
   "execution_count": 42,
   "metadata": {},
   "outputs": [
    {
     "data": {
      "text/plain": [
       "array([[[ 1,  2,  3],\n",
       "        [ 4,  5,  6]],\n",
       "\n",
       "       [[ 0, -1, -2],\n",
       "        [-3, -4, -5]]], dtype=int16)"
      ]
     },
     "execution_count": 42,
     "metadata": {},
     "output_type": "execute_result"
    }
   ],
   "source": [
    "x2"
   ]
  },
  {
   "cell_type": "code",
   "execution_count": 53,
   "metadata": {},
   "outputs": [
    {
     "name": "stdout",
     "output_type": "stream",
     "text": [
      "inf\n",
      "nan\n",
      "-inf\n",
      "-0.0\n",
      "0.0\n",
      "2.718281828459045\n",
      "0.5772156649015329\n",
      "3.141592653589793\n"
     ]
    }
   ],
   "source": [
    "print(np.inf)\n",
    "print(np.nan)\n",
    "print(np.NINF)\n",
    "print(np.NZERO)\n",
    "print(np.PZERO)\n",
    "print(np.e)\n",
    "print(np.euler_gamma)\n",
    "print(np.pi)"
   ]
  },
  {
   "cell_type": "code",
   "execution_count": 16,
   "metadata": {},
   "outputs": [
    {
     "name": "stdout",
     "output_type": "stream",
     "text": [
      "[0. 1. 2. 3. 4. 5. 6.]\n",
      "['A' 'B' 'C']\n",
      "[0. 1. 2. 3. 4. 5. 6. 7.]\n"
     ]
    }
   ],
   "source": [
    "floatArr = np.array([0.,1.,2.,3.,4.,5.,6.])\n",
    "strArr = np.array(['A','B','C'])\n",
    "arange = np.arange(8,dtype=np.float32)\n",
    "\n",
    "print(floatArr)\n",
    "print(strArr)\n",
    "print(arange)"
   ]
  },
  {
   "cell_type": "code",
   "execution_count": 17,
   "metadata": {},
   "outputs": [
    {
     "name": "stdout",
     "output_type": "stream",
     "text": [
      "original [0. 1. 2. 3. 4. 5. 6.]\n",
      "sum 21.0\n",
      "std deveation 2.0\n",
      "cumulative sum [ 0.  1.  3.  6. 10. 15. 21.]\n"
     ]
    }
   ],
   "source": [
    "\n",
    "print(\"original\",floatArr)\n",
    "print(\"sum\",floatArr.sum())\n",
    "print(\"std deveation\",floatArr.std())\n",
    "print(\"cumulative sum\",floatArr.cumsum())"
   ]
  },
  {
   "cell_type": "code",
   "execution_count": 31,
   "metadata": {},
   "outputs": [
    {
     "name": "stdout",
     "output_type": "stream",
     "text": [
      "[1.0, 2.0, 3.0, 4.0]\n",
      "[1.0, 2.0, 3.0, 4.0, 1.0, 2.0, 3.0, 4.0]\n",
      "-----------------------\n",
      "[0. 1. 2. 3. 4. 5. 6.]\n",
      "times 2 [ 0.  2.  4.  6.  8. 10. 12.]\n",
      "power 2 [ 0.  1.  4.  9. 16. 25. 36.]\n",
      "power x [1.0000e+00 1.0000e+00 4.0000e+00 2.7000e+01 2.5600e+02 3.1250e+03\n",
      " 4.6656e+04]\n",
      "exp [  1.           2.71828183   7.3890561   20.08553692  54.59815003\n",
      " 148.4131591  403.42879349]\n",
      "sqrt [0.         1.         1.41421356 1.73205081 2.         2.23606798\n",
      " 2.44948974]\n",
      "743 ns ± 67 ns per loop (mean ± std. dev. of 7 runs, 1,000,000 loops each)\n",
      "71.1 ns ± 1.39 ns per loop (mean ± std. dev. of 7 runs, 10,000,000 loops each)\n"
     ]
    }
   ],
   "source": [
    "#scalar multiplication\n",
    "print([1.,2.,3.,4.])\n",
    "print([1.,2.,3.,4.] * 2)\n",
    "\n",
    "#proper Scalar multiplication\n",
    "print(\"-----------------------\")\n",
    "print(floatArr)\n",
    "print(\"times 2\",floatArr*2)\n",
    "print(\"power 2\",floatArr**2)\n",
    "print(\"power x\",floatArr**floatArr)\n",
    "print(\"exp\",np.exp(floatArr))\n",
    "print(\"sqrt\",np.sqrt(floatArr))\n",
    "\n",
    "%timeit np.sqrt(2.5)\n",
    "%timeit math.sqrt(2.5)"
   ]
  },
  {
   "cell_type": "code",
   "execution_count": 39,
   "metadata": {},
   "outputs": [
    {
     "name": "stdout",
     "output_type": "stream",
     "text": [
      "[0. 1. 2. 3. 4. 5. 6.]\n",
      "2.0\n",
      "[1. 2.]\n",
      "63.0\n",
      "[ 0.  3.  6.  9. 12. 15. 18.]\n",
      "[21. 42.]\n"
     ]
    }
   ],
   "source": [
    "b = np.array([floatArr,floatArr*2])\n",
    "print(b[0])\n",
    "print(b[0,2])\n",
    "print(b[:,1])\n",
    "print(b.sum())\n",
    "#sum either by row or column \n",
    "print(b.sum(axis=0))\n",
    "print(b.sum(axis=1))"
   ]
  },
  {
   "cell_type": "code",
   "execution_count": 49,
   "metadata": {},
   "outputs": [
    {
     "name": "stdout",
     "output_type": "stream",
     "text": [
      "[[0. 0. 0.]\n",
      " [0. 0. 0.]]\n",
      "[[[1. 1. 1. 1.]\n",
      "  [1. 1. 1. 1.]\n",
      "  [1. 1. 1. 1.]]\n",
      "\n",
      " [[1. 1. 1. 1.]\n",
      "  [1. 1. 1. 1.]\n",
      "  [1. 1. 1. 1.]]]\n",
      "[[[0. 0. 0. 0.]\n",
      "  [0. 0. 0. 0.]\n",
      "  [0. 0. 0. 0.]]\n",
      "\n",
      " [[0. 0. 0. 0.]\n",
      "  [0. 0. 0. 0.]\n",
      "  [0. 0. 0. 0.]]]\n",
      "[[[1. 1. 1. 1.]\n",
      "  [1. 1. 1. 1.]\n",
      "  [1. 1. 1. 1.]]\n",
      "\n",
      " [[1. 1. 1. 1.]\n",
      "  [1. 1. 1. 1.]\n",
      "  [1. 1. 1. 1.]]]\n"
     ]
    }
   ],
   "source": [
    "c = np.zeros((2,3),dtype=\"f\")\n",
    "print(c)\n",
    "c = np.ones((2,3,4),dtype=\"f\")\n",
    "print(c)\n",
    "\n",
    "d = np.zeros_like(c,dtype=\"f\")\n",
    "print(d)\n",
    "\n",
    "d = np.ones_like(c,dtype=\"f\")\n",
    "print(d)"
   ]
  },
  {
   "cell_type": "code",
   "execution_count": 21,
   "metadata": {},
   "outputs": [
    {
     "name": "stdout",
     "output_type": "stream",
     "text": [
      "[('Name', 'S10'), ('Age', '<i4'), ('Height', '<f4'), ('Children/Pets', '<i4', (2,))]\n",
      "[('Name', 'O'), ('Age', '<i4'), ('Height', '<f8'), ('Children/Pet', [('f0', '<i4'), ('f1', '<i4')])]\n",
      "[('Name', 'O'), ('Age', '<i8'), ('Height', '<f8'), ('Children/Pet', [('f0', '<i8'), ('f1', '<i8')])]\n",
      "[('Smith', 45, 1.83, (0, 1)) ('Jones', 53, 1.72, (2, 2))]\n",
      "Name ['Smith' 'Jones']\n",
      "Height [1.83 1.72]\n",
      "Height Mean 1.775\n",
      "first element ('Smith', 45, 1.83, (0, 1))\n",
      "Age 53\n"
     ]
    }
   ],
   "source": [
    "# Sructured numpyArray\n",
    "dt = np.dtype([(\"Name\",\"S10\"),(\"Age\",\"i4\"),(\"Height\",\"f\"),(\"Children/Pets\",\"i4\",2)])\n",
    "print(dt)\n",
    "\n",
    "dt = np.dtype({\"names\":[\"Name\",\"Age\",\"Height\",\"Children/Pet\"],\n",
    "               \"formats\":\"O int float int,int\".split()})\n",
    "\n",
    "print(dt)\n",
    "dt = np.dtype([(\"Name\",\"O\"),(\"Age\",\"<i8\"),(\"Height\",\"<f8\"),(\"Children/Pet\",[(\"f0\",\"<i8\"),(\"f1\",\"<i8\")])])\n",
    "print(dt)\n",
    "\n",
    "s = np.array([(\"Smith\",45,1.83,(0,1)),\n",
    "              (\"Jones\",53,1.72,(2,2))],dtype=dt)\n",
    "print(s)\n",
    "\n",
    "print(\"Name\", s[\"Name\"])\n",
    "print(\"Height\", s[\"Height\"])\n",
    "print(\"Height Mean\", s[\"Height\"].mean())\n",
    "print(\"first element\",s[0])\n",
    "print(\"Age\", s[1][\"Age\"])"
   ]
  },
  {
   "cell_type": "code",
   "execution_count": 29,
   "metadata": {},
   "outputs": [
    {
     "name": "stdout",
     "output_type": "stream",
     "text": [
      "R: [[ 0  1  2]\n",
      " [ 3  4  5]\n",
      " [ 6  7  8]\n",
      " [ 9 10 11]]\n",
      "S: [[0.  0.5 1. ]\n",
      " [1.5 2.  2.5]\n",
      " [3.  3.5 4. ]\n",
      " [4.5 5.  5.5]]\n",
      "R+S: [[ 0.   1.5  3. ]\n",
      " [ 4.5  6.   7.5]\n",
      " [ 9.  10.5 12. ]\n",
      " [13.5 15.  16.5]]\n"
     ]
    }
   ],
   "source": [
    "# Vectorizaion\n",
    "np.random.seed(100)\n",
    "r = np.arange(12).reshape((4,3))\n",
    "s = np.arange(12).reshape((4,3)) * .5\n",
    "\n",
    "print(\"R:\",r)\n",
    "print(\"S:\",s)\n",
    "\n",
    "print(\"R+S:\",r+s)"
   ]
  },
  {
   "cell_type": "code",
   "execution_count": 30,
   "metadata": {},
   "outputs": [
    {
     "name": "stdout",
     "output_type": "stream",
     "text": [
      "R+3\n",
      " [[ 3  4  5]\n",
      " [ 6  7  8]\n",
      " [ 9 10 11]\n",
      " [12 13 14]]\n"
     ]
    }
   ],
   "source": [
    "print(\"R+3\\n\",r+3)"
   ]
  },
  {
   "cell_type": "code",
   "execution_count": 31,
   "metadata": {},
   "outputs": [
    {
     "name": "stdout",
     "output_type": "stream",
     "text": [
      "R*2\n",
      " [[ 0  2  4]\n",
      " [ 6  8 10]\n",
      " [12 14 16]\n",
      " [18 20 22]]\n"
     ]
    }
   ],
   "source": [
    "print(\"R*2\\n\",r*2)"
   ]
  },
  {
   "cell_type": "code",
   "execution_count": 32,
   "metadata": {},
   "outputs": [
    {
     "name": "stdout",
     "output_type": "stream",
     "text": [
      "2*R+3\n",
      " [[ 3  5  7]\n",
      " [ 9 11 13]\n",
      " [15 17 19]\n",
      " [21 23 25]]\n"
     ]
    }
   ],
   "source": [
    "print(\"2*R+3\\n\",2*r+3)"
   ]
  },
  {
   "cell_type": "code",
   "execution_count": 47,
   "metadata": {},
   "outputs": [
    {
     "data": {
      "text/plain": [
       "array([[[-1.48,  1.91,  0.84, -1.13,  0.11],\n",
       "        [-0.55, -0.09, -1.19, -0.03, -1.88],\n",
       "        [ 0.43, -0.28, -0.36, -0.53, -1.67],\n",
       "        ...,\n",
       "        [ 0.4 ,  0.47, -0.04,  0.42, -1.52],\n",
       "        [ 1.03, -1.72, -0.51,  0.62, -2.04],\n",
       "        [ 0.03,  0.64, -0.58, -0.03, -0.1 ]],\n",
       "\n",
       "       [[ 0.04,  6.81,  4.68,  0.74,  3.22],\n",
       "        [ 1.91,  2.82,  0.61,  2.93, -0.75],\n",
       "        [ 3.87,  2.45,  2.28,  1.95, -0.33],\n",
       "        ...,\n",
       "        [ 3.8 ,  3.95,  2.91,  3.83, -0.04],\n",
       "        [ 5.07, -0.45,  1.98,  4.24, -1.07],\n",
       "        [ 3.06,  4.27,  1.84,  2.93,  2.8 ]]])"
      ]
     },
     "execution_count": 47,
     "metadata": {},
     "output_type": "execute_result"
    }
   ],
   "source": [
    "x = np.random.standard_normal((1000000,5))\n",
    "y = 2 * x + 3\n",
    "C = np.array((x,y),order='C')\n",
    "F = np.array((x,y),order='F')\n",
    "x = 0.0; y = 0.0\n",
    "C[:2].round(2)\n"
   ]
  },
  {
   "cell_type": "code",
   "execution_count": null,
   "metadata": {},
   "outputs": [],
   "source": []
  }
 ],
 "metadata": {
  "kernelspec": {
   "display_name": "Python 3",
   "language": "python",
   "name": "python3"
  },
  "language_info": {
   "codemirror_mode": {
    "name": "ipython",
    "version": 3
   },
   "file_extension": ".py",
   "mimetype": "text/x-python",
   "name": "python",
   "nbconvert_exporter": "python",
   "pygments_lexer": "ipython3",
   "version": "3.11.5"
  },
  "orig_nbformat": 4
 },
 "nbformat": 4,
 "nbformat_minor": 2
}
