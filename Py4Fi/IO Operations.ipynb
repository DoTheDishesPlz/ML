{
 "cells": [
  {
   "cell_type": "code",
   "execution_count": 17,
   "metadata": {},
   "outputs": [
    {
     "name": "stderr",
     "output_type": "stream",
     "text": [
      "C:\\Users\\16175\\AppData\\Local\\Temp\\ipykernel_28780\\814044121.py:2: MatplotlibDeprecationWarning: The seaborn styles shipped by Matplotlib are deprecated since 3.6, as they no longer correspond to the styles shipped by seaborn. However, they will remain available as 'seaborn-v0_8-<style>'. Alternatively, directly use the seaborn API instead.\n",
      "  plt.style.use(\"seaborn\")\n"
     ]
    },
    {
     "name": "stdout",
     "output_type": "stream",
     "text": [
      "CPU times: total: 0 ns\n",
      "Wall time: 28 ms\n"
     ]
    }
   ],
   "source": [
    "from pylab import plt, mpl\n",
    "plt.style.use(\"seaborn\")\n",
    "mpl.rcParams['font.family']='serif'\n",
    "%matplotlib inline\n",
    "\n",
    "import pickle\n",
    "import numpy as np\n",
    "from random import gauss\n",
    "\n",
    "a = [gauss(1.5,2) for i in range(1000000)]\n",
    "path = 'out/'\n",
    "pkl_file = open(path+'data.pkl','wb')\n",
    "\n",
    "%time pickle.dump(a,pkl_file)\n",
    "\n",
    "pkl_file.close()"
   ]
  },
  {
   "cell_type": "code",
   "execution_count": 18,
   "metadata": {},
   "outputs": [
    {
     "name": "stdout",
     "output_type": "stream",
     "text": [
      "CPU times: total: 46.9 ms\n",
      "Wall time: 102 ms\n"
     ]
    }
   ],
   "source": [
    "pkl_file = open(path+'data.pkl','rb')\n",
    "%time b = pickle.load(pkl_file)"
   ]
  },
  {
   "cell_type": "code",
   "execution_count": 19,
   "metadata": {},
   "outputs": [
    {
     "name": "stdout",
     "output_type": "stream",
     "text": [
      "[5.166756816330234, 4.161590629168226, 1.1498932946875502]\n",
      "[5.166756816330234, 4.161590629168226, 1.1498932946875502]\n",
      "True\n"
     ]
    }
   ],
   "source": [
    "print(a[:3])\n",
    "print(b[:3])\n",
    "print(np.allclose(np.array(a),np.array(b)))"
   ]
  },
  {
   "cell_type": "code",
   "execution_count": 20,
   "metadata": {},
   "outputs": [
    {
     "name": "stdout",
     "output_type": "stream",
     "text": [
      "CPU times: total: 0 ns\n",
      "Wall time: 49.1 ms\n",
      "CPU times: total: 0 ns\n",
      "Wall time: 47 ms\n"
     ]
    }
   ],
   "source": [
    "pkl_file = open(path+'data.pkl','wb')\n",
    "\n",
    "%time pickle.dump(np.array(a),pkl_file)\n",
    "%time pickle.dump(np.array(a) ** 2,pkl_file)\n",
    "pkl_file.close()"
   ]
  },
  {
   "cell_type": "code",
   "execution_count": 21,
   "metadata": {},
   "outputs": [
    {
     "name": "stdout",
     "output_type": "stream",
     "text": [
      "[5.16675682 4.16159063 1.14989329 5.11326299]\n",
      "[26.695376   17.31883656  1.32225459 26.14545837]\n"
     ]
    }
   ],
   "source": [
    "pkl_file = open(path+'data.pkl','rb')\n",
    "x = pickle.load(pkl_file)\n",
    "print(x[:4])\n",
    "\n",
    "y = pickle.load(pkl_file)\n",
    "print(y[:4])\n",
    "\n",
    "pkl_file.close()"
   ]
  },
  {
   "cell_type": "code",
   "execution_count": 25,
   "metadata": {},
   "outputs": [
    {
     "name": "stdout",
     "output_type": "stream",
     "text": [
      "x [5.16675682 4.16159063 1.14989329 5.11326299]\n",
      "y [26.695376   17.31883656  1.32225459 26.14545837]\n"
     ]
    }
   ],
   "source": [
    "pkl_file = open(path+'data.pkl','wb')\n",
    "pickle.dump({'x':x,'y':y},pkl_file)\n",
    "pkl_file.close()\n",
    "\n",
    "pkl_file = open(path+'data.pkl','rb')\n",
    "data = pickle.load(pkl_file)\n",
    "pkl_file.close()\n",
    "for key in data.keys():\n",
    "    print(key,data[key][:4])"
   ]
  },
  {
   "cell_type": "code",
   "execution_count": null,
   "metadata": {},
   "outputs": [],
   "source": []
  }
 ],
 "metadata": {
  "kernelspec": {
   "display_name": "Python 3",
   "language": "python",
   "name": "python3"
  },
  "language_info": {
   "codemirror_mode": {
    "name": "ipython",
    "version": 3
   },
   "file_extension": ".py",
   "mimetype": "text/x-python",
   "name": "python",
   "nbconvert_exporter": "python",
   "pygments_lexer": "ipython3",
   "version": "3.11.6"
  }
 },
 "nbformat": 4,
 "nbformat_minor": 2
}
